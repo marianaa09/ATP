{
 "cells": [
  {
   "cell_type": "markdown",
   "metadata": {},
   "source": [
    "# Pesquisa binária  \n",
    "## Adivinha o número em que pensei \n",
    "#### 2021-10-16\n",
    "#### 2021-10-16\n",
    "#### José Carlos Leite Ramalho, jcr@di.uminho.pt\n",
    "#### Mariana Estrada de Oliveira, A96938\n",
    "#### Este trabalho tem como base a *pesquisa binária*, conceito relacionado com a localização de um ou mais elementos pertencentes a uma lista de elementos ordenados.  Concretamente, o principal objetivo reside na procura, por parte do computador, de um número, pensado por um jogador, no intervalo ordenado de 0 a 100, inclsive. Torna-se necessário recorrer à pesquisa binária  de modo a ocorreram sucessivas divisões, do intervalo considerado, para metade, com o objetivo de reduzir o intervalo onde se procura o número. <p> Deste modo, o jogador deverá pensar, no início do jogo, num número de 0 a 100. O computador irá apresentar a sua primeira aposta, o número 50, isto é, o valor médio do intervalo inicial considerado. De seguida, o jogador responderá com Y, sim, ou N, não, verificando se o computador terá acertado ou não no seu pensamento. No caso de ter acertado, o jogo encontra o seu fim. Caso contrário, o jogador indicará se o número é M, maior, ou m, menor, do que aquele em que terá pensado. Consequentemente, o intervalo para a nova aposta do computador será reduzido para metade do intervalo inicial, seguindo-se uma atualização do limite inferior e do limite superior do intervalo. A nova aposta irá direcionar-se para o valor médio do novo intervalo, e assim sucessivamente até que o computador acerte no número em que o jogador pensou. <p> Assim, o computador, com recurso à pesquisa binária, efetuará um número máximo de 7 tentativas até adivinhar o número em que o jogador pensou.  \n",
    "\n",
    "     \n"
   ]
  },
  {
   "cell_type": "code",
   "execution_count": null,
   "metadata": {},
   "outputs": [],
   "source": [
    "def main():\n",
    "    \n",
    "    acertou = False\n",
    "    inf, sup = 0, 100\n",
    "    aposta = int((sup - inf) / 2)\n",
    "    while not acertou:\n",
    "        resposta = input(\"Pensou no número \" + str(aposta) + \"? (Y/N)\")\n",
    "        if resposta == \"Y\":\n",
    "            acertou = True\n",
    "        else:\n",
    "            resposta = input (\"O número que pensou é maior ou menor que \" + str(aposta) + \"? (M/m)\")\n",
    "            if resposta == \"M\":\n",
    "                inf = aposta + 1\n",
    "            else:\n",
    "                sup = aposta - 1\n",
    "            aposta = int((sup - inf) / 2) + inf\n",
    "                \n",
    "    print(\"Acertei!!\")\n",
    "\n",
    "\n",
    "if __name__ == \"__main__\":\n",
    "    main()"
   ]
  }
 ],
 "metadata": {
  "kernelspec": {
   "display_name": "Python 3",
   "language": "python",
   "name": "python3"
  },
  "language_info": {
   "codemirror_mode": {
    "name": "ipython",
    "version": 3
   },
   "file_extension": ".py",
   "mimetype": "text/x-python",
   "name": "python",
   "nbconvert_exporter": "python",
   "pygments_lexer": "ipython3",
   "version": "3.8.3"
  }
 },
 "nbformat": 4,
 "nbformat_minor": 4
}
