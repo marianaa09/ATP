{
 "cells": [
  {
   "cell_type": "markdown",
   "metadata": {},
   "source": [
    "# Leitura e Manipulação de Base de Dados\n",
    "### TPC8\n",
    "***Data de início:*** 2021-11-05<br>\n",
    "***Data de fim:*** 2021-11-09<br>\n",
    "***Supervisor:*** José Carlos Leite Ramalho, https://www.di.uminho.pt/~jcr/<br>\n",
    "***Autor:*** Mariana Estrada de Oliveira, A96938<br>\n",
    "***Resumo:*** Este trabalho tem por base a leitura e o processamento de datasets bem como, a produção de dados estatísticos. <br>\n",
    "Deste modo, foi desenvolvida uma aplicação que permite a criação de uma interface onde são apresentados vários butões que possibilitam diferentes finalidades. Entre elas, *Carregar Base de Dados*, *Modalidades*, *Distribuição por Ano*, *Distribuição por Clube* e *Distribuição por Modalidade*.<br>\n"
   ]
  }
 ],
 "metadata": {
  "kernelspec": {
   "display_name": "Python 3",
   "language": "python",
   "name": "python3"
  },
  "language_info": {
   "codemirror_mode": {
    "name": "ipython",
    "version": 3
   },
   "file_extension": ".py",
   "mimetype": "text/x-python",
   "name": "python",
   "nbconvert_exporter": "python",
   "pygments_lexer": "ipython3",
   "version": "3.8.3"
  }
 },
 "nbformat": 4,
 "nbformat_minor": 4
}
