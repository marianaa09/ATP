{
 "cells": [
  {
   "cell_type": "markdown",
   "metadata": {},
   "source": [
    "## Leitura do Dataset"
   ]
  },
  {
   "cell_type": "code",
   "execution_count": 2,
   "metadata": {},
   "outputs": [],
   "source": [
    "def convBool(v):\n",
    "    return v == \"true\"\n",
    "\n",
    "\n",
    "def lerDataset(fnome):\n",
    "    f = open(fnome, encoding=\"utf-8\")\n",
    "    bd = []\n",
    "    f.readline()\n",
    "    for linha in f:\n",
    "        emd=[]\n",
    "        novaLinha = linha.strip(\"\\n\")\n",
    "        campos = novaLinha.split(\",\")\n",
    "        emd.append(\"emd\" + str(campos[1]))\n",
    "        emd.append(campos[2])\n",
    "        emd.append(campos[4] + \" \" + campos[3])\n",
    "        emd = emd + campos[5:]\n",
    "        emd[-1] = convBool(emd[-1])\n",
    "        emd[-2] = convBool(emd[-2])\n",
    "        bd.append(emd)\n",
    "    return bd\n",
    "\n",
    "#lerDataset(\"emd.csv\")\n"
   ]
  },
  {
   "cell_type": "markdown",
   "metadata": {},
   "source": [
    "## Listagem da Informação \n"
   ]
  },
  {
   "cell_type": "code",
   "execution_count": 4,
   "metadata": {},
   "outputs": [],
   "source": [
    "def listarDataset(bd): \n",
    "    bd.sort(reverse = True, key = lambda emd: emd[1])\n",
    "    print(\"ID      |NOME     |DATA       |RESULTADO\")\n",
    "    print(\"--------------------------------------------------------\")\n",
    "    for e in bd:\n",
    "        if e[-1]:\n",
    "            res='Apto'\n",
    "        else:\n",
    "            res='Não Apto'\n",
    "        print(e[0]  +\" | \" + e[2] + \"  | \"  +  e[1] +  \" | \" +  res)\n",
    "\n",
    "BD = []\n",
    "#BD = lerDataset(\"emd.csv\")\n",
    "\n",
    "#listarDataset(BD)\n"
   ]
  },
  {
   "cell_type": "markdown",
   "metadata": {},
   "source": [
    "## Consulta de um registo"
   ]
  },
  {
   "cell_type": "code",
   "execution_count": 5,
   "metadata": {},
   "outputs": [],
   "source": [
    "def consultarDataset(bd):\n",
    "    resposta=input(\"Introduza o id do aluno (c/ parênteses):\")\n",
    "    encontrado=False\n",
    "    \n",
    "    for linha in bd:\n",
    "        if  linha[0] == resposta:\n",
    "            #print(\"  id   |    nome    |    data    | resultado\")\n",
    "            #print(\"---------------------------------------------\")\n",
    "            for e in bd:\n",
    "                if e[-1]:\n",
    "                    res = \"Apto\"\n",
    "                else:\n",
    "                    res = \"Não\"\n",
    "            r=(linha[0] + \"|\" + linha[2] + \"|\" + linha[1] + \"|\" + res)\n",
    "            encontrado=True\n",
    "    if encontrado==False:\n",
    "        print(\"Não existe nenhum aluno com o id inserido!\")\n",
    "#consultarDataset(lerDataset(\"emd.csv\"))"
   ]
  },
  {
   "cell_type": "markdown",
   "metadata": {},
   "source": [
    "## Modalidades"
   ]
  },
  {
   "cell_type": "code",
   "execution_count": 6,
   "metadata": {},
   "outputs": [],
   "source": [
    "def modalidades(bd):\n",
    "    modalidades=[]\n",
    "    for exame in bd:\n",
    "        if exame[7] not in modalidades:\n",
    "            modalidades.append(exame[7])\n",
    "    modalidades.sort()\n",
    "    return modalidades\n",
    "\n"
   ]
  },
  {
   "cell_type": "markdown",
   "metadata": {},
   "source": [
    "## Distribuição por modalidades"
   ]
  },
  {
   "cell_type": "code",
   "execution_count": 8,
   "metadata": {},
   "outputs": [],
   "source": [
    "def distribPorModalidade(bd):\n",
    "    distribuicao = {}\n",
    "    for d in bd:\n",
    "        if d[6] in distribuicao.keys():\n",
    "            distribuicao[d[6]] = distribuicao[d[6]] + 1\n",
    "        else:\n",
    "            distribuicao[d[6]] = 1\n",
    "            \n",
    "    return distribuicao\n",
    "\n",
    "BD = []\n",
    "#BD = lerDataset(\"emd.csv\")\n",
    "#lista=distribPorModalidade(BD)\n",
    "#print(lista)\n",
    "\n"
   ]
  },
  {
   "cell_type": "markdown",
   "metadata": {},
   "source": [
    "## Distribuição por clubes"
   ]
  },
  {
   "cell_type": "code",
   "execution_count": 9,
   "metadata": {},
   "outputs": [],
   "source": [
    "def distribPorClube(bd):\n",
    "    distribuicao_clube = {}\n",
    "    for d in bd:\n",
    "        if d[7] in distribuicao_clube.keys():\n",
    "            distribuicao_clube[d[7]] = distribuicao_clube[d[7]] + 1\n",
    "        else:\n",
    "            distribuicao_clube[d[7]] = 1\n",
    "            \n",
    "    return distribuicao_clube\n",
    "distribPorClube(BD)\n",
    "\n",
    "\n",
    "BD = []\n",
    "#BD = lerDataset(\"emd.csv\")\n",
    "#lista=distribPorClube(BD)\n",
    "#print(lista)"
   ]
  },
  {
   "cell_type": "markdown",
   "metadata": {},
   "source": [
    "## Distribuição por ano"
   ]
  },
  {
   "cell_type": "code",
   "execution_count": 11,
   "metadata": {},
   "outputs": [],
   "source": [
    "def distribPorAno(bd):\n",
    "    distribano = {}\n",
    "    for elem in bd:\n",
    "        ano = elem[1] [0:4]\n",
    "        if ano in distribano.keys():\n",
    "            distribano[ano] = distribano[ano] + 1\n",
    "        else:\n",
    "            distribano[ano] = 1\n",
    "    \n",
    "    return distribano\n",
    "#distribPorAno(BD)\n"
   ]
  },
  {
   "cell_type": "markdown",
   "metadata": {},
   "source": [
    "## Distribuição parametrizada"
   ]
  },
  {
   "cell_type": "code",
   "execution_count": null,
   "metadata": {},
   "outputs": [],
   "source": [
    "def distrib(bd, x):\n",
    "    distribuicao={}\n",
    "    for d in bd:\n",
    "        if d[x] in distribuicao.keys():\n",
    "            distribuicao[d[x]]=distribuicao[d[x]]+1\n",
    "        else:\n",
    "            distribuicao[d[x]]=1\n",
    "            \n",
    "    return distribuicao\n",
    "#distrib(BD, 7)\n",
    "\n"
   ]
  },
  {
   "cell_type": "markdown",
   "metadata": {},
   "source": [
    "## Gráfico da distribuição por modalidades"
   ]
  },
  {
   "cell_type": "code",
   "execution_count": 12,
   "metadata": {},
   "outputs": [],
   "source": [
    "import matplotlib.pyplot as plt\n",
    "\n",
    "def plotDistribPorModalidade(bd):\n",
    "    distribuicao = distribPorModalidade(bd)\n",
    "\n",
    "    x = list(range(1,len(distribuicao.keys())+1))\n",
    "    y = list(distribuicao.values())\n",
    "    modalidades = list(distribuicao.keys())\n",
    "\n",
    "    plt.bar(x, y, tick_label = modalidades, width = 0.8, color = ['violet', 'blue'])\n",
    "\n",
    "    plt.xlabel('Modalidades')\n",
    "    plt.ylabel('Número de alunos')\n",
    "    plt.title('Distribuição por modalidades')\n",
    "    plt.xticks(rotation = 90)\n",
    " \n",
    "\n",
    "    plt.show()\n",
    "    \n",
    "#plotDistribPorModalidade(BD)\n"
   ]
  },
  {
   "cell_type": "markdown",
   "metadata": {},
   "source": [
    "## Gráfico da distribuição por clube"
   ]
  },
  {
   "cell_type": "code",
   "execution_count": 13,
   "metadata": {},
   "outputs": [],
   "source": [
    "def plotDistrib(bd, d):\n",
    "    \n",
    "    if d==1:\n",
    "        distribuicao=distribPorAno(bd)\n",
    "    else:\n",
    "        distribuicao=distrib(bd, d)\n",
    " \n",
    "    x = list(range(1,len(distribuicao.keys())+1))\n",
    "    y = list(distribuicao.values())\n",
    "\n",
    "    variavel = list(distribuicao.keys())\n",
    "\n",
    "    plt.bar(x, y, tick_label = variavel, width = 0.8, color = ['green', 'pink'])\n",
    "\n",
    "\n",
    "    \n",
    "    plt.xlabel('Clubes')\n",
    "    plt.ylabel('Número de alunos')\n",
    "    plt.title('Distribuição por clubes')\n",
    "    plt.xticks(rotation = 90)\n",
    " \n",
    "\n",
    "    plt.show()\n",
    "    \n",
    "#plotDistrib(BD, 7)\n",
    "\n"
   ]
  },
  {
   "cell_type": "markdown",
   "metadata": {},
   "source": [
    "## Gráfico da distribuição por ano"
   ]
  },
  {
   "cell_type": "code",
   "execution_count": 14,
   "metadata": {},
   "outputs": [],
   "source": [
    "def plotDistribPorAno(bd):\n",
    "    dic = distribPorAno(bd)\n",
    "    x = dic.keys()\n",
    "    y = []\n",
    "    for i in dic.keys():\n",
    "        y.append(dic[i])\n",
    "        \n",
    "    fig = plt.figure(figsize = (15, 5))\n",
    "    plt.bar(x, y, align = 'edge', width = 0.3)\n",
    "    plt.show()"
   ]
  }
 ],
 "metadata": {
  "kernelspec": {
   "display_name": "Python 3",
   "language": "python",
   "name": "python3"
  },
  "language_info": {
   "codemirror_mode": {
    "name": "ipython",
    "version": 3
   },
   "file_extension": ".py",
   "mimetype": "text/x-python",
   "name": "python",
   "nbconvert_exporter": "python",
   "pygments_lexer": "ipython3",
   "version": "3.8.3"
  }
 },
 "nbformat": 4,
 "nbformat_minor": 4
}
